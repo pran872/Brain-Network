{
  "cells": [
    {
      "cell_type": "markdown",
      "metadata": {
        "id": "view-in-github",
        "colab_type": "text"
      },
      "source": [
        "<a href=\"https://colab.research.google.com/github/pran872/Brain-Network/blob/main/level3_custom.ipynb\" target=\"_parent\"><img src=\"https://colab.research.google.com/assets/colab-badge.svg\" alt=\"Open In Colab\"/></a>"
      ]
    },
    {
      "cell_type": "code",
      "execution_count": 1,
      "metadata": {
        "id": "BOy3SUBoQGG_",
        "outputId": "93207bd4-8e3e-479a-e558-dc61fdb4234c",
        "colab": {
          "base_uri": "https://localhost:8080/"
        }
      },
      "outputs": [
        {
          "output_type": "stream",
          "name": "stdout",
          "text": [
            "Device: cpu\n"
          ]
        }
      ],
      "source": [
        "import torch\n",
        "import torch.nn as nn\n",
        "import torch.nn.functional as F\n",
        "from torch.utils.data import DataLoader, random_split\n",
        "import torchvision\n",
        "import torchvision.transforms as transforms\n",
        "import matplotlib.pyplot as plt\n",
        "from tqdm import tqdm\n",
        "import numpy as np\n",
        "import random\n",
        "\n",
        "# Seed for reproducibility\n",
        "seed = 42\n",
        "random.seed(seed)\n",
        "np.random.seed(seed)\n",
        "torch.manual_seed(seed)\n",
        "torch.backends.cudnn.deterministic = True\n",
        "torch.backends.cudnn.benchmark = False\n",
        "\n",
        "device = torch.device(\"cuda\" if torch.cuda.is_available() else \"cpu\")\n",
        "print(\"Device:\", device)\n"
      ]
    },
    {
      "cell_type": "code",
      "source": [
        "transform = transforms.Compose([\n",
        "    transforms.ToTensor(),\n",
        "    transforms.Normalize((0.5,), (0.5,))\n",
        "])\n",
        "\n",
        "full_train_set = torchvision.datasets.CIFAR10(root='./data', train=True, download=True, transform=transform)\n",
        "train_size = int(0.9 * len(full_train_set))\n",
        "val_size = len(full_train_set) - train_size\n",
        "train_set, val_set = random_split(full_train_set, [train_size, val_size])\n",
        "\n",
        "train_loader = DataLoader(train_set, batch_size=256, shuffle=True, num_workers=2)\n",
        "val_loader = DataLoader(val_set, batch_size=256, shuffle=False, num_workers=2)\n",
        "\n",
        "test_set = torchvision.datasets.CIFAR10(root='./data', train=False, download=True, transform=transform)\n",
        "test_loader = DataLoader(test_set, batch_size=256, shuffle=False, num_workers=2)\n"
      ],
      "metadata": {
        "id": "JLaTiALyQbgL",
        "outputId": "bb010a72-68d6-4994-b915-d735b56cb77d",
        "colab": {
          "base_uri": "https://localhost:8080/"
        }
      },
      "execution_count": 2,
      "outputs": [
        {
          "output_type": "stream",
          "name": "stderr",
          "text": [
            "100%|██████████| 170M/170M [00:01<00:00, 87.5MB/s]\n"
          ]
        }
      ]
    },
    {
      "cell_type": "code",
      "source": [
        "class Flex2D(nn.Module):\n",
        "    def __init__(self, in_channels, out_channels, kernel_size, device, stride=1, padding=0, config=None):\n",
        "        super().__init__()\n",
        "        \"\"\"\n",
        "        # in dimensions: in this case [C, H, W]\n",
        "        # --------\n",
        "        # logits_mechanism: THRESHOLD or SPATIAL_ATTENTION_(1-3)\n",
        "        # masking_mechanism: \"SIGMOID\", \"STE\", \"SIGMOID_SMOOTHED\", \"STE_SIGMOID\"\n",
        "        # num_spatial_attention_block: int\n",
        "        # logits_use_batchnorm: bool\n",
        "\n",
        "        # about parameter vs variable:\n",
        "        variable is almost deprecated and works the same as just plain tensor. And a Parameters is a specific Tensor that is marked as being a parameter from an nn.Module and so will be returned when calling .parameters() on this Module.\n",
        "        \"\"\"\n",
        "        # -------- set configs --------\n",
        "        # assert config, \"Missing config file for Flex2D\"\n",
        "        # self.config = config\n",
        "        self.in_channels = in_channels\n",
        "        self.out_channels = out_channels\n",
        "        self.kernel_size = kernel_size\n",
        "        self.stride = stride\n",
        "        self.padding = padding\n",
        "        self.device = device\n",
        "\n",
        "        # -------- Initialize layers --------\n",
        "        self.flex_conv = nn.Conv2d(in_channels, out_channels, kernel_size, stride, padding)\n",
        "        self.flex_pool = MaxPool2d(kernel_size, stride, padding)\n",
        "        self.bn_logits = nn.BatchNorm2d(self.out_channels)\n",
        "\n",
        "        # -------- Initialize monitored variables --------\n",
        "        self.homogeneity = 0  # for monitoring the binariness of the mask later on\n",
        "        self.conv_ratio = 0  # for later updating\n",
        "        self.cp_identity_matrix = None  # store the matrix indicating the channel pool identity\n",
        "\n",
        "    def channel_interpolate(self, tensor, out_channels):\n",
        "        \"\"\"\n",
        "        Interpolates a tensor along the channel axis. This is for addressing the mismatch in the number of channels between the output of the maxpool layer and the output of the convolutional layer.\n",
        "        \"\"\"\n",
        "        tensor = tensor.permute(0, 2, 1, 3)\n",
        "        tensor = F.interpolate(tensor, [out_channels, tensor.size(3)], mode=\"bilinear\")\n",
        "        tensor = tensor.permute(0, 2, 1, 3)\n",
        "        return tensor\n",
        "\n",
        "    def channel_wise_maxpool(self, tensor_1, tensor_2):\n",
        "        \"\"\"\n",
        "        Take two tensors of identical shape and return a tensor of the same shape using element-wise max pooling.\n",
        "        Also returns the ratio of values from tensor_2 to the total.\n",
        "        \"\"\"\n",
        "        assert tensor_1.shape == tensor_2.shape, \"tensor_1 and tensor_2 must have the same shape\"\n",
        "\n",
        "        joint = cat([tensor_1.unsqueeze(-1), tensor_2.unsqueeze(-1)], dim=-1)\n",
        "        pooled, indices = torch.max(joint, dim=-1)\n",
        "\n",
        "        # count values are from conv (tensor 2)\n",
        "        with torch.no_grad():\n",
        "            conv_ratio = (indices == 1).sum().item() / tensor_1.numel()\n",
        "            cp_identity_matrix = (indices == 1).int()\n",
        "\n",
        "        return pooled, conv_ratio, cp_identity_matrix\n",
        "\n",
        "    def forward(self, x):\n",
        "        \"\"\"\n",
        "        threshold can only be initialized when the output dimensions are known\n",
        "        \"\"\"\n",
        "        # -------- make the raw conv and pool --------\n",
        "        t_flex_pool = self.flex_pool(x)\n",
        "        t_flex_conv = self.flex_conv(x)\n",
        "        t_flex_pool = self.channel_interpolate(t_flex_pool, self.out_channels)\n",
        "\n",
        "        # -------- get the binary mask --------\n",
        "        output, self.conv_ratio, self.cp_identity_matrix = self.channel_wise_maxpool(t_flex_pool, t_flex_conv)\n",
        "        return output"
      ],
      "metadata": {
        "id": "Af9ULUn-SGUF"
      },
      "execution_count": 3,
      "outputs": []
    },
    {
      "cell_type": "code",
      "source": [
        "class CustomViTHybrid(nn.Module):\n",
        "    def __init__(self, img_size=32, patch_size=4, in_channels=3,\n",
        "                 cnn_channels=32, embed_dim=64, depth=2, heads=4,\n",
        "                 num_classes=10, use_flex=False, device=\"cpu\"):\n",
        "        super().__init__()\n",
        "\n",
        "        self.use_flex = use_flex\n",
        "        self.device = device\n",
        "\n",
        "        # First conv layer\n",
        "        self.conv1 = nn.Conv2d(in_channels, 16, kernel_size=3, padding=1)\n",
        "        self.pool1 = nn.MaxPool2d(2)  # 32 → 16\n",
        "\n",
        "        # Optional second layer: Flex2D or Conv\n",
        "        if self.use_flex:\n",
        "            self.flex = Flex2D(16, cnn_channels, kernel_size=3, stride=1, padding=1, device=self.device)\n",
        "        else:\n",
        "            self.conv2 = nn.Conv2d(16, cnn_channels, kernel_size=3, padding=1)\n",
        "        self.pool2 = nn.MaxPool2d(2)  # 16 → 8\n",
        "\n",
        "        # Patch embedding\n",
        "        self.patch_embed = nn.Conv2d(cnn_channels, embed_dim, kernel_size=patch_size, stride=patch_size)\n",
        "        num_patches = (8 // patch_size) ** 2\n",
        "\n",
        "        # CLS token\n",
        "        self.cls_token = nn.Parameter(torch.zeros(1, 1, embed_dim))\n",
        "\n",
        "        # Positional embedding\n",
        "        self.pos_embed = nn.Parameter(torch.zeros(1, num_patches + 1, embed_dim))\n",
        "        nn.init.trunc_normal_(self.pos_embed, std=0.02)\n",
        "\n",
        "        # ViT encoder\n",
        "        encoder_layer = nn.TransformerEncoderLayer(d_model=embed_dim, nhead=heads, batch_first=True)\n",
        "        self.transformer = nn.TransformerEncoder(encoder_layer, num_layers=depth)\n",
        "\n",
        "        # Classifier\n",
        "        self.mlp_head = nn.Sequential(\n",
        "            nn.LayerNorm(embed_dim),\n",
        "            nn.Linear(embed_dim, num_classes)\n",
        "        )\n",
        "\n",
        "    def forward(self, x):\n",
        "        B = x.size(0)\n",
        "        x = F.relu(self.conv1(x))\n",
        "        x = self.pool1(x)\n",
        "\n",
        "        if self.use_flex:\n",
        "            x = self.flex(x)\n",
        "        else:\n",
        "            x = F.relu(self.conv2(x))\n",
        "        x = self.pool2(x)\n",
        "\n",
        "        x = self.patch_embed(x)                      # [B, embed_dim, H', W']\n",
        "        x = x.flatten(2).transpose(1, 2)             # [B, num_patches, embed_dim]\n",
        "\n",
        "        cls_tokens = self.cls_token.expand(B, -1, -1)\n",
        "        x = torch.cat((cls_tokens, x), dim=1)\n",
        "        x = x + self.pos_embed\n",
        "\n",
        "        x = self.transformer(x)\n",
        "        x = x[:, 0]  # Use CLS token\n",
        "        return self.mlp_head(x)\n"
      ],
      "metadata": {
        "id": "6KRyUB2yQd8c"
      },
      "execution_count": 4,
      "outputs": []
    },
    {
      "cell_type": "code",
      "source": [
        "model = CustomViTHybrid(use_flex=True).to(device)\n",
        "optimizer = torch.optim.Adam(model.parameters(), lr=0.001)\n",
        "criterion = nn.CrossEntropyLoss()\n",
        "\n",
        "train_losses, val_losses = [], []\n",
        "train_accuracies, val_accuracies = [], []\n"
      ],
      "metadata": {
        "id": "6DNV8OPgQ-Ue"
      },
      "execution_count": 5,
      "outputs": []
    },
    {
      "cell_type": "code",
      "source": [
        "def train_model(epochs=5):\n",
        "    for epoch in range(epochs):\n",
        "        model.train()\n",
        "        total_loss, correct, total = 0, 0, 0\n",
        "\n",
        "        for images, labels in tqdm(train_loader, desc=f\"Epoch {epoch+1} [Train]\"):\n",
        "            images, labels = images.to(device), labels.to(device)\n",
        "            optimizer.zero_grad()\n",
        "            outputs = model(images)\n",
        "            loss = criterion(outputs, labels)\n",
        "            loss.backward()\n",
        "            optimizer.step()\n",
        "\n",
        "            total_loss += loss.item()\n",
        "            _, predicted = outputs.max(1)\n",
        "            total += labels.size(0)\n",
        "            correct += predicted.eq(labels).sum().item()\n",
        "\n",
        "        train_losses.append(total_loss / len(train_loader))\n",
        "        train_accuracies.append(100. * correct / total)\n",
        "\n",
        "        # Validation\n",
        "        model.eval()\n",
        "        val_loss, correct, total = 0, 0, 0\n",
        "        with torch.no_grad():\n",
        "            for images, labels in tqdm(val_loader, desc=f\"Epoch {epoch+1} [Val]\"):\n",
        "                images, labels = images.to(device), labels.to(device)\n",
        "                outputs = model(images)\n",
        "                loss = criterion(outputs, labels)\n",
        "                val_loss += loss.item()\n",
        "                _, predicted = outputs.max(1)\n",
        "                total += labels.size(0)\n",
        "                correct += predicted.eq(labels).sum().item()\n",
        "\n",
        "        val_losses.append(val_loss / len(val_loader))\n",
        "        val_accuracies.append(100. * correct / total)\n",
        "        print(f\"Epoch {epoch+1}: Train Acc={train_accuracies[-1]:.2f}% | Val Acc={val_accuracies[-1]:.2f}%\")\n"
      ],
      "metadata": {
        "id": "JoIdUFg2Q_vu"
      },
      "execution_count": 6,
      "outputs": []
    },
    {
      "cell_type": "code",
      "source": [
        "def test_model():\n",
        "    model.eval()\n",
        "    correct, total = 0, 0\n",
        "    with torch.no_grad():\n",
        "        for images, labels in tqdm(test_loader, desc=\"Testing\"):\n",
        "            images, labels = images.to(device), labels.to(device)\n",
        "            outputs = model(images)\n",
        "            _, predicted = outputs.max(1)\n",
        "            total += labels.size(0)\n",
        "            correct += predicted.eq(labels).sum().item()\n",
        "\n",
        "    print(f\"Test Accuracy: {100 * correct / total:.2f}%\")\n",
        "\n",
        "train_model(epochs=10)\n",
        "test_model()\n"
      ],
      "metadata": {
        "id": "a6qjJaqeRBUa",
        "outputId": "47c26cc2-a708-4780-c539-4ddb5a9e674f",
        "colab": {
          "base_uri": "https://localhost:8080/"
        }
      },
      "execution_count": 7,
      "outputs": [
        {
          "output_type": "stream",
          "name": "stderr",
          "text": [
            "Epoch 1 [Train]: 100%|██████████| 176/176 [01:08<00:00,  2.56it/s]\n",
            "Epoch 1 [Val]: 100%|██████████| 20/20 [00:04<00:00,  4.48it/s]\n"
          ]
        },
        {
          "output_type": "stream",
          "name": "stdout",
          "text": [
            "Epoch 1: Train Acc=27.23% | Val Acc=40.42%\n"
          ]
        },
        {
          "output_type": "stream",
          "name": "stderr",
          "text": [
            "Epoch 2 [Train]: 100%|██████████| 176/176 [01:05<00:00,  2.71it/s]\n",
            "Epoch 2 [Val]: 100%|██████████| 20/20 [00:03<00:00,  6.06it/s]\n"
          ]
        },
        {
          "output_type": "stream",
          "name": "stdout",
          "text": [
            "Epoch 2: Train Acc=44.38% | Val Acc=50.82%\n"
          ]
        },
        {
          "output_type": "stream",
          "name": "stderr",
          "text": [
            "Epoch 3 [Train]: 100%|██████████| 176/176 [01:04<00:00,  2.74it/s]\n",
            "Epoch 3 [Val]: 100%|██████████| 20/20 [00:03<00:00,  6.15it/s]\n"
          ]
        },
        {
          "output_type": "stream",
          "name": "stdout",
          "text": [
            "Epoch 3: Train Acc=51.52% | Val Acc=55.12%\n"
          ]
        },
        {
          "output_type": "stream",
          "name": "stderr",
          "text": [
            "Epoch 4 [Train]: 100%|██████████| 176/176 [01:04<00:00,  2.72it/s]\n",
            "Epoch 4 [Val]: 100%|██████████| 20/20 [00:03<00:00,  6.03it/s]\n"
          ]
        },
        {
          "output_type": "stream",
          "name": "stdout",
          "text": [
            "Epoch 4: Train Acc=56.03% | Val Acc=59.66%\n"
          ]
        },
        {
          "output_type": "stream",
          "name": "stderr",
          "text": [
            "Epoch 5 [Train]: 100%|██████████| 176/176 [01:04<00:00,  2.72it/s]\n",
            "Epoch 5 [Val]: 100%|██████████| 20/20 [00:04<00:00,  4.51it/s]\n"
          ]
        },
        {
          "output_type": "stream",
          "name": "stdout",
          "text": [
            "Epoch 5: Train Acc=59.56% | Val Acc=60.48%\n"
          ]
        },
        {
          "output_type": "stream",
          "name": "stderr",
          "text": [
            "Epoch 6 [Train]: 100%|██████████| 176/176 [01:04<00:00,  2.75it/s]\n",
            "Epoch 6 [Val]: 100%|██████████| 20/20 [00:03<00:00,  5.26it/s]\n"
          ]
        },
        {
          "output_type": "stream",
          "name": "stdout",
          "text": [
            "Epoch 6: Train Acc=62.98% | Val Acc=63.40%\n"
          ]
        },
        {
          "output_type": "stream",
          "name": "stderr",
          "text": [
            "Epoch 7 [Train]: 100%|██████████| 176/176 [01:04<00:00,  2.73it/s]\n",
            "Epoch 7 [Val]: 100%|██████████| 20/20 [00:03<00:00,  6.07it/s]\n"
          ]
        },
        {
          "output_type": "stream",
          "name": "stdout",
          "text": [
            "Epoch 7: Train Acc=65.38% | Val Acc=64.58%\n"
          ]
        },
        {
          "output_type": "stream",
          "name": "stderr",
          "text": [
            "Epoch 8 [Train]: 100%|██████████| 176/176 [01:04<00:00,  2.71it/s]\n",
            "Epoch 8 [Val]: 100%|██████████| 20/20 [00:03<00:00,  6.09it/s]\n"
          ]
        },
        {
          "output_type": "stream",
          "name": "stdout",
          "text": [
            "Epoch 8: Train Acc=67.50% | Val Acc=66.58%\n"
          ]
        },
        {
          "output_type": "stream",
          "name": "stderr",
          "text": [
            "Epoch 9 [Train]: 100%|██████████| 176/176 [01:05<00:00,  2.70it/s]\n",
            "Epoch 9 [Val]: 100%|██████████| 20/20 [00:03<00:00,  5.00it/s]\n"
          ]
        },
        {
          "output_type": "stream",
          "name": "stdout",
          "text": [
            "Epoch 9: Train Acc=69.36% | Val Acc=66.24%\n"
          ]
        },
        {
          "output_type": "stream",
          "name": "stderr",
          "text": [
            "Epoch 10 [Train]: 100%|██████████| 176/176 [01:05<00:00,  2.67it/s]\n",
            "Epoch 10 [Val]: 100%|██████████| 20/20 [00:03<00:00,  5.92it/s]\n"
          ]
        },
        {
          "output_type": "stream",
          "name": "stdout",
          "text": [
            "Epoch 10: Train Acc=70.88% | Val Acc=67.04%\n"
          ]
        },
        {
          "output_type": "stream",
          "name": "stderr",
          "text": [
            "Testing: 100%|██████████| 40/40 [00:06<00:00,  6.52it/s]"
          ]
        },
        {
          "output_type": "stream",
          "name": "stdout",
          "text": [
            "Test Accuracy: 67.21%\n"
          ]
        },
        {
          "output_type": "stream",
          "name": "stderr",
          "text": [
            "\n"
          ]
        }
      ]
    },
    {
      "cell_type": "code",
      "source": [
        "plt.figure(figsize=(12, 5))\n",
        "\n",
        "plt.subplot(1, 2, 1)\n",
        "plt.plot(train_losses, label='Train Loss')\n",
        "plt.plot(val_losses, label='Val Loss')\n",
        "plt.legend()\n",
        "plt.title('Loss Curve')\n",
        "\n",
        "plt.subplot(1, 2, 2)\n",
        "plt.plot(train_accuracies, label='Train Acc')\n",
        "plt.plot(val_accuracies, label='Val Acc')\n",
        "plt.legend()\n",
        "plt.title('Accuracy Curve')\n",
        "\n",
        "plt.show()\n"
      ],
      "metadata": {
        "id": "d5p0xSTtRClP",
        "outputId": "68d7b172-c582-40ee-bbc2-24c833d8e619",
        "colab": {
          "base_uri": "https://localhost:8080/",
          "height": 468
        }
      },
      "execution_count": 8,
      "outputs": [
        {
          "output_type": "display_data",
          "data": {
            "text/plain": [
              "<Figure size 1200x500 with 2 Axes>"
            ],
            "image/png": "[encoded data removed]"
          },
          "metadata": {}
        }
      ]
    }
  ],
  "metadata": {
    "language_info": {
      "name": "python"
    },
    "colab": {
      "provenance": [],
      "include_colab_link": true
    },
    "kernelspec": {
      "name": "python3",
      "display_name": "Python 3"
    }
  },
  "nbformat": 4,
  "nbformat_minor": 0
}