{
  "cells": [
    {
      "cell_type": "markdown",
      "metadata": {
        "id": "view-in-github",
        "colab_type": "text"
      },
      "source": [
        "<a href=\"https://colab.research.google.com/github/pran872/Brain-Network/blob/main/level3.ipynb\" target=\"_parent\"><img src=\"https://colab.research.google.com/assets/colab-badge.svg\" alt=\"Open In Colab\"/></a>"
      ]
    },
    {
      "cell_type": "code",
      "execution_count": 1,
      "metadata": {
        "id": "R1ZPSJ9ax4BO"
      },
      "outputs": [],
      "source": [
        "# Level 2: Baseline CNN + FL on CIFAR-10\n",
        "import torch\n",
        "import torch.nn as nn\n",
        "import torch.nn.functional as F\n",
        "import torchvision\n",
        "import torchvision.transforms as transforms\n",
        "from torch.utils.data import DataLoader, random_split\n",
        "from tqdm import tqdm\n",
        "import matplotlib.pyplot as plt\n",
        "import time\n",
        "from torch.nn import MaxPool2d, functional as F\n",
        "from torch import cat"
      ]
    },
    {
      "cell_type": "code",
      "source": [
        "import random\n",
        "import numpy as np\n",
        "\n",
        "seed = 42\n",
        "random.seed(seed)\n",
        "np.random.seed(seed)\n",
        "torch.manual_seed(seed)\n",
        "torch.backends.cudnn.deterministic = True\n",
        "torch.backends.cudnn.benchmark = False"
      ],
      "metadata": {
        "id": "WqVB2QkqyASm"
      },
      "execution_count": 2,
      "outputs": []
    },
    {
      "cell_type": "code",
      "source": [
        "device = torch.device(\"cuda\" if torch.cuda.is_available() else \"cpu\")\n",
        "print(\"Using device:\", device)"
      ],
      "metadata": {
        "colab": {
          "base_uri": "https://localhost:8080/"
        },
        "id": "0ShpxuQJyBsR",
        "outputId": "3819dfdb-bbb7-4317-c016-a664b7937756"
      },
      "execution_count": 3,
      "outputs": [
        {
          "output_type": "stream",
          "name": "stdout",
          "text": [
            "Using device: cpu\n"
          ]
        }
      ]
    },
    {
      "cell_type": "code",
      "source": [
        "# Normalize CIFAR-10 images\n",
        "transform = transforms.Compose([\n",
        "    transforms.ToTensor(),\n",
        "    transforms.Normalize((0.5,), (0.5,))\n",
        "])\n",
        "\n",
        "# Load full training set\n",
        "full_train_set = torchvision.datasets.CIFAR10(root='./data', train=True, download=True, transform=transform)\n",
        "\n",
        "# Split: 45k train / 5k val\n",
        "train_size = int(0.9 * len(full_train_set))\n",
        "val_size = len(full_train_set) - train_size\n",
        "train_set, val_set = random_split(full_train_set, [train_size, val_size])\n",
        "\n",
        "# Loaders\n",
        "train_loader = DataLoader(train_set, batch_size=256, shuffle=True, num_workers=2)\n",
        "val_loader = DataLoader(val_set, batch_size=256, shuffle=False, num_workers=2)\n",
        "\n",
        "# Test set stays untouched\n",
        "test_set = torchvision.datasets.CIFAR10(root='./data', train=False, download=True, transform=transform)\n",
        "test_loader = DataLoader(test_set, batch_size=256, shuffle=False, num_workers=2)\n"
      ],
      "metadata": {
        "colab": {
          "base_uri": "https://localhost:8080/"
        },
        "id": "Sm3-K-CGyEti",
        "outputId": "01feaa2d-fc49-41fc-fe54-7c95caf0e37c"
      },
      "execution_count": 4,
      "outputs": [
        {
          "output_type": "stream",
          "name": "stderr",
          "text": [
            "100%|██████████| 170M/170M [00:04<00:00, 39.8MB/s]\n"
          ]
        }
      ]
    },
    {
      "cell_type": "code",
      "source": [
        "class Flex2D(nn.Module):\n",
        "    def __init__(self, in_channels, out_channels, kernel_size, device, stride=1, padding=0, config=None):\n",
        "        super().__init__()\n",
        "        \"\"\"\n",
        "        # in dimensions: in this case [C, H, W]\n",
        "        # --------\n",
        "        # logits_mechanism: THRESHOLD or SPATIAL_ATTENTION_(1-3)\n",
        "        # masking_mechanism: \"SIGMOID\", \"STE\", \"SIGMOID_SMOOTHED\", \"STE_SIGMOID\"\n",
        "        # num_spatial_attention_block: int\n",
        "        # logits_use_batchnorm: bool\n",
        "\n",
        "        # about parameter vs variable:\n",
        "        variable is almost deprecated and works the same as just plain tensor. And a Parameters is a specific Tensor that is marked as being a parameter from an nn.Module and so will be returned when calling .parameters() on this Module.\n",
        "        \"\"\"\n",
        "        # -------- set configs --------\n",
        "        # assert config, \"Missing config file for Flex2D\"\n",
        "        # self.config = config\n",
        "        self.in_channels = in_channels\n",
        "        self.out_channels = out_channels\n",
        "        self.kernel_size = kernel_size\n",
        "        self.stride = stride\n",
        "        self.padding = padding\n",
        "        self.device = device\n",
        "\n",
        "        # -------- Initialize layers --------\n",
        "        self.flex_conv = nn.Conv2d(in_channels, out_channels, kernel_size, stride, padding)\n",
        "        self.flex_pool = MaxPool2d(kernel_size, stride, padding)\n",
        "        self.bn_logits = nn.BatchNorm2d(self.out_channels)\n",
        "\n",
        "        # -------- Initialize monitored variables --------\n",
        "        self.homogeneity = 0  # for monitoring the binariness of the mask later on\n",
        "        self.conv_ratio = 0  # for later updating\n",
        "        self.cp_identity_matrix = None  # store the matrix indicating the channel pool identity\n",
        "\n",
        "    def channel_interpolate(self, tensor, out_channels):\n",
        "        \"\"\"\n",
        "        Interpolates a tensor along the channel axis. This is for addressing the mismatch in the number of channels between the output of the maxpool layer and the output of the convolutional layer.\n",
        "        \"\"\"\n",
        "        tensor = tensor.permute(0, 2, 1, 3)\n",
        "        tensor = F.interpolate(tensor, [out_channels, tensor.size(3)], mode=\"bilinear\")\n",
        "        tensor = tensor.permute(0, 2, 1, 3)\n",
        "        return tensor\n",
        "\n",
        "    def channel_wise_maxpool(self, tensor_1, tensor_2):\n",
        "        \"\"\"\n",
        "        Take two tensors of identical shape and return a tensor of the same shape using element-wise max pooling.\n",
        "        Also returns the ratio of values from tensor_2 to the total.\n",
        "        \"\"\"\n",
        "        assert tensor_1.shape == tensor_2.shape, \"tensor_1 and tensor_2 must have the same shape\"\n",
        "\n",
        "        joint = cat([tensor_1.unsqueeze(-1), tensor_2.unsqueeze(-1)], dim=-1)\n",
        "        pooled, indices = torch.max(joint, dim=-1)\n",
        "\n",
        "        # count values are from conv (tensor 2)\n",
        "        with torch.no_grad():\n",
        "            conv_ratio = (indices == 1).sum().item() / tensor_1.numel()\n",
        "            cp_identity_matrix = (indices == 1).int()\n",
        "\n",
        "        return pooled, conv_ratio, cp_identity_matrix\n",
        "\n",
        "    def forward(self, x):\n",
        "        \"\"\"\n",
        "        threshold can only be initialized when the output dimensions are known\n",
        "        \"\"\"\n",
        "        # -------- make the raw conv and pool --------\n",
        "        t_flex_pool = self.flex_pool(x)\n",
        "        t_flex_conv = self.flex_conv(x)\n",
        "        t_flex_pool = self.channel_interpolate(t_flex_pool, self.out_channels)\n",
        "\n",
        "        # -------- get the binary mask --------\n",
        "        output, self.conv_ratio, self.cp_identity_matrix = self.channel_wise_maxpool(t_flex_pool, t_flex_conv)\n",
        "        return output\n",
        "\n",
        "class CNNWithFlexLayer(nn.Module):\n",
        "    def __init__(self, device):\n",
        "        super(CNNWithFlexLayer, self).__init__()\n",
        "        self.device = device\n",
        "        self.conv1 = nn.Conv2d(3, 16, kernel_size=3, padding=1)\n",
        "        self.flex = Flex2D(in_channels=16, out_channels=32, kernel_size=3, stride=1, padding=1, device=device)\n",
        "        self.pool = nn.MaxPool2d(2, 2)\n",
        "        self.fc1 = nn.Linear(32 * 8 * 8, 64)\n",
        "        self.fc2 = nn.Linear(64, 10)\n",
        "\n",
        "    def forward(self, x):\n",
        "        x = self.pool(F.relu(self.conv1(x)))  # Output: 16x16x16\n",
        "        x = self.flex(x)                      # Output: 32x16x16\n",
        "        x = self.pool(x)                      # Output: 32x8x8\n",
        "        x = x.view(-1, 32 * 8 * 8)\n",
        "        x = F.relu(self.fc1(x))\n",
        "        x = self.fc2(x)\n",
        "        return x\n",
        "\n",
        "model = CNNWithFlexLayer(device).to(device)"
      ],
      "metadata": {
        "id": "zL6HBiSByGkt"
      },
      "execution_count": 5,
      "outputs": []
    },
    {
      "cell_type": "code",
      "source": [
        "optimizer = torch.optim.Adam(model.parameters(), lr=0.001)\n",
        "criterion = nn.CrossEntropyLoss()\n",
        "\n",
        "train_losses, val_losses = [], []\n",
        "train_accuracies, val_accuracies = [], []\n"
      ],
      "metadata": {
        "id": "qKkD06ZDyIbk"
      },
      "execution_count": 6,
      "outputs": []
    },
    {
      "cell_type": "code",
      "source": [
        "def train_model(epochs=5):\n",
        "    for epoch in range(epochs):\n",
        "        print(\"\")\n",
        "        start = time.time()\n",
        "        model.train()\n",
        "        total_loss, correct, total = 0, 0, 0\n",
        "\n",
        "        for images, labels in tqdm(train_loader, desc=f\"Epoch {epoch+1} [Train]\"):\n",
        "            images, labels = images.to(device), labels.to(device)\n",
        "            optimizer.zero_grad()\n",
        "            outputs = model(images)\n",
        "            loss = criterion(outputs, labels)\n",
        "            loss.backward()\n",
        "            optimizer.step()\n",
        "\n",
        "            total_loss += loss.item()\n",
        "            _, predicted = outputs.max(1)\n",
        "            total += labels.size(0)\n",
        "            correct += predicted.eq(labels).sum().item()\n",
        "\n",
        "        avg_train_loss = total_loss / len(train_loader)\n",
        "        train_acc = 100. * correct / total\n",
        "        train_losses.append(avg_train_loss)\n",
        "        train_accuracies.append(train_acc)\n",
        "\n",
        "        # Validation phase\n",
        "        model.eval()\n",
        "        val_loss, correct, total = 0, 0, 0\n",
        "        with torch.no_grad():\n",
        "            for images, labels in tqdm(val_loader, desc=f\"Epoch {epoch+1} [Val]\"):\n",
        "                images, labels = images.to(device), labels.to(device)\n",
        "                outputs = model(images)\n",
        "                loss = criterion(outputs, labels)\n",
        "                val_loss += loss.item()\n",
        "                _, predicted = outputs.max(1)\n",
        "                total += labels.size(0)\n",
        "                correct += predicted.eq(labels).sum().item()\n",
        "\n",
        "        avg_val_loss = val_loss / len(val_loader)\n",
        "        val_acc = 100. * correct / total\n",
        "        val_losses.append(avg_val_loss)\n",
        "        val_accuracies.append(val_acc)\n",
        "\n",
        "        end = time.time()\n",
        "        print(f\"Epoch {epoch+1}: Train Loss={avg_train_loss:.4f}, Train Acc={train_acc:.2f}% | \"\n",
        "              f\"Val Loss={avg_val_loss:.4f}, Val Acc={val_acc:.2f}% | Time: {end - start:.2f}s\")\n"
      ],
      "metadata": {
        "id": "nOHhE3ieyKps"
      },
      "execution_count": 7,
      "outputs": []
    },
    {
      "cell_type": "code",
      "source": [
        "train_model(epochs=10)\n"
      ],
      "metadata": {
        "colab": {
          "base_uri": "https://localhost:8080/"
        },
        "id": "HGZAxcc0yMqC",
        "outputId": "bfc21463-5688-4095-c2bf-1809dfda1a8d"
      },
      "execution_count": 8,
      "outputs": [
        {
          "output_type": "stream",
          "name": "stdout",
          "text": [
            "\n"
          ]
        },
        {
          "output_type": "stream",
          "name": "stderr",
          "text": [
            "Epoch 1 [Train]: 100%|██████████| 176/176 [00:57<00:00,  3.05it/s]\n",
            "Epoch 1 [Val]: 100%|██████████| 20/20 [00:04<00:00,  4.63it/s]\n"
          ]
        },
        {
          "output_type": "stream",
          "name": "stdout",
          "text": [
            "Epoch 1: Train Loss=1.7158, Train Acc=38.51% | Val Loss=1.4581, Val Acc=48.66% | Time: 61.94s\n",
            "\n"
          ]
        },
        {
          "output_type": "stream",
          "name": "stderr",
          "text": [
            "Epoch 2 [Train]: 100%|██████████| 176/176 [00:58<00:00,  2.99it/s]\n",
            "Epoch 2 [Val]: 100%|██████████| 20/20 [00:04<00:00,  4.56it/s]\n"
          ]
        },
        {
          "output_type": "stream",
          "name": "stdout",
          "text": [
            "Epoch 2: Train Loss=1.3668, Train Acc=51.71% | Val Loss=1.3110, Val Acc=54.20% | Time: 63.30s\n",
            "\n"
          ]
        },
        {
          "output_type": "stream",
          "name": "stderr",
          "text": [
            "Epoch 3 [Train]: 100%|██████████| 176/176 [00:59<00:00,  2.97it/s]\n",
            "Epoch 3 [Val]: 100%|██████████| 20/20 [00:04<00:00,  4.65it/s]\n"
          ]
        },
        {
          "output_type": "stream",
          "name": "stdout",
          "text": [
            "Epoch 3: Train Loss=1.2693, Train Acc=55.34% | Val Loss=1.2671, Val Acc=55.08% | Time: 63.48s\n",
            "\n"
          ]
        },
        {
          "output_type": "stream",
          "name": "stderr",
          "text": [
            "Epoch 4 [Train]: 100%|██████████| 176/176 [00:57<00:00,  3.04it/s]\n",
            "Epoch 4 [Val]: 100%|██████████| 20/20 [00:04<00:00,  4.05it/s]\n"
          ]
        },
        {
          "output_type": "stream",
          "name": "stdout",
          "text": [
            "Epoch 4: Train Loss=1.2070, Train Acc=57.57% | Val Loss=1.2096, Val Acc=58.36% | Time: 62.76s\n",
            "\n"
          ]
        },
        {
          "output_type": "stream",
          "name": "stderr",
          "text": [
            "Epoch 5 [Train]: 100%|██████████| 176/176 [00:57<00:00,  3.05it/s]\n",
            "Epoch 5 [Val]: 100%|██████████| 20/20 [00:05<00:00,  3.70it/s]\n"
          ]
        },
        {
          "output_type": "stream",
          "name": "stdout",
          "text": [
            "Epoch 5: Train Loss=1.1471, Train Acc=59.95% | Val Loss=1.1513, Val Acc=60.12% | Time: 63.11s\n",
            "\n"
          ]
        },
        {
          "output_type": "stream",
          "name": "stderr",
          "text": [
            "Epoch 6 [Train]: 100%|██████████| 176/176 [00:56<00:00,  3.11it/s]\n",
            "Epoch 6 [Val]: 100%|██████████| 20/20 [00:04<00:00,  4.55it/s]\n"
          ]
        },
        {
          "output_type": "stream",
          "name": "stdout",
          "text": [
            "Epoch 6: Train Loss=1.0979, Train Acc=61.41% | Val Loss=1.1066, Val Acc=61.54% | Time: 60.91s\n",
            "\n"
          ]
        },
        {
          "output_type": "stream",
          "name": "stderr",
          "text": [
            "Epoch 7 [Train]: 100%|██████████| 176/176 [00:58<00:00,  3.01it/s]\n",
            "Epoch 7 [Val]: 100%|██████████| 20/20 [00:04<00:00,  4.59it/s]\n"
          ]
        },
        {
          "output_type": "stream",
          "name": "stdout",
          "text": [
            "Epoch 7: Train Loss=1.0573, Train Acc=62.77% | Val Loss=1.0562, Val Acc=63.84% | Time: 62.81s\n",
            "\n"
          ]
        },
        {
          "output_type": "stream",
          "name": "stderr",
          "text": [
            "Epoch 8 [Train]: 100%|██████████| 176/176 [01:01<00:00,  2.87it/s]\n",
            "Epoch 8 [Val]: 100%|██████████| 20/20 [00:04<00:00,  4.30it/s]\n"
          ]
        },
        {
          "output_type": "stream",
          "name": "stdout",
          "text": [
            "Epoch 8: Train Loss=1.0210, Train Acc=64.15% | Val Loss=1.0456, Val Acc=63.50% | Time: 65.90s\n",
            "\n"
          ]
        },
        {
          "output_type": "stream",
          "name": "stderr",
          "text": [
            "Epoch 9 [Train]: 100%|██████████| 176/176 [00:59<00:00,  2.96it/s]\n",
            "Epoch 9 [Val]: 100%|██████████| 20/20 [00:04<00:00,  4.30it/s]\n"
          ]
        },
        {
          "output_type": "stream",
          "name": "stdout",
          "text": [
            "Epoch 9: Train Loss=0.9999, Train Acc=65.03% | Val Loss=1.0195, Val Acc=65.20% | Time: 64.03s\n",
            "\n"
          ]
        },
        {
          "output_type": "stream",
          "name": "stderr",
          "text": [
            "Epoch 10 [Train]: 100%|██████████| 176/176 [00:58<00:00,  2.99it/s]\n",
            "Epoch 10 [Val]: 100%|██████████| 20/20 [00:04<00:00,  4.39it/s]"
          ]
        },
        {
          "output_type": "stream",
          "name": "stdout",
          "text": [
            "Epoch 10: Train Loss=0.9638, Train Acc=66.30% | Val Loss=0.9916, Val Acc=65.96% | Time: 63.52s\n"
          ]
        },
        {
          "output_type": "stream",
          "name": "stderr",
          "text": [
            "\n"
          ]
        }
      ]
    },
    {
      "cell_type": "code",
      "source": [
        "def test_model():\n",
        "    model.eval()\n",
        "    correct, total = 0, 0\n",
        "    with torch.no_grad():\n",
        "        for images, labels in tqdm(test_loader, desc=\"Testing\"):\n",
        "            images, labels = images.to(device), labels.to(device)\n",
        "            outputs = model(images)\n",
        "            _, predicted = outputs.max(1)\n",
        "            total += labels.size(0)\n",
        "            correct += predicted.eq(labels).sum().item()\n",
        "\n",
        "    print(f\"Test Accuracy: {100 * correct / total:.2f}%\")\n",
        "\n",
        "test_model()\n"
      ],
      "metadata": {
        "colab": {
          "base_uri": "https://localhost:8080/"
        },
        "id": "NvzJYJnkyOeR",
        "outputId": "c5b21849-f549-45ce-c3af-473d85fd92eb"
      },
      "execution_count": 9,
      "outputs": [
        {
          "output_type": "stream",
          "name": "stderr",
          "text": [
            "Testing: 100%|██████████| 40/40 [00:09<00:00,  4.15it/s]"
          ]
        },
        {
          "output_type": "stream",
          "name": "stdout",
          "text": [
            "Test Accuracy: 66.09%\n"
          ]
        },
        {
          "output_type": "stream",
          "name": "stderr",
          "text": [
            "\n"
          ]
        }
      ]
    },
    {
      "cell_type": "code",
      "source": [
        "plt.figure(figsize=(12,5))\n",
        "\n",
        "plt.subplot(1,2,1)\n",
        "plt.plot(train_losses, label='Train Loss')\n",
        "plt.plot(val_losses, label='Val Loss')\n",
        "plt.title('Loss Curve')\n",
        "plt.xlabel('Epoch')\n",
        "plt.ylabel('Loss')\n",
        "plt.legend()\n",
        "\n",
        "plt.subplot(1,2,2)\n",
        "plt.plot(train_accuracies, label='Train Acc')\n",
        "plt.plot(val_accuracies, label='Val Acc')\n",
        "plt.title('Accuracy Curve')\n",
        "plt.xlabel('Epoch')\n",
        "plt.ylabel('Accuracy (%)')\n",
        "plt.legend()\n",
        "\n",
        "plt.tight_layout()\n",
        "plt.show()\n"
      ],
      "metadata": {
        "colab": {
          "base_uri": "https://localhost:8080/",
          "height": 276
        },
        "id": "CE4Wi680yQUJ",
        "outputId": "5fa8c0a1-680f-4187-a718-af7e9b1ddfdf"
      },
      "execution_count": 10,
      "outputs": [
        {
          "output_type": "display_data",
          "data": {
            "text/plain": [
              "<Figure size 1200x500 with 2 Axes>"
            ],
            "image/png": "[encoded data removed]"
          },
          "metadata": {}
        }
      ]
    }
  ],
  "metadata": {
    "language_info": {
      "name": "python"
    },
    "colab": {
      "provenance": [],
      "include_colab_link": true
    },
    "kernelspec": {
      "name": "python3",
      "display_name": "Python 3"
    }
  },
  "nbformat": 4,
  "nbformat_minor": 0
}